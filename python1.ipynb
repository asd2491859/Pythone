{
  "nbformat": 4,
  "nbformat_minor": 0,
  "metadata": {
    "colab": {
      "name": "python1.ipynb",
      "provenance": [],
      "collapsed_sections": []
    },
    "kernelspec": {
      "name": "python3",
      "display_name": "Python 3"
    }
  },
  "cells": [
    {
      "cell_type": "code",
      "metadata": {
        "id": "BTzQx-wBsPUn",
        "colab_type": "code",
        "colab": {
          "base_uri": "https://localhost:8080/",
          "height": 34
        },
        "outputId": "6d4bf846-34df-490c-99b9-d7ceb2ddb898"
      },
      "source": [
        "print(\"Hello Mydeargreateacher\")"
      ],
      "execution_count": 3,
      "outputs": [
        {
          "output_type": "stream",
          "text": [
            "Hello Mydeargreateacher\n"
          ],
          "name": "stdout"
        }
      ]
    },
    {
      "cell_type": "markdown",
      "metadata": {
        "id": "2aY0xcU9t6fR",
        "colab_type": "text"
      },
      "source": [
        "# 受難日第一天2019/9/23程式超簡單"
      ]
    },
    {
      "cell_type": "markdown",
      "metadata": {
        "id": "Ko2IosC8uM2U",
        "colab_type": "text"
      },
      "source": [
        ""
      ]
    },
    {
      "cell_type": "code",
      "metadata": {
        "id": "jhrKaFg2uNT4",
        "colab_type": "code",
        "colab": {
          "base_uri": "https://localhost:8080/",
          "height": 34
        },
        "outputId": "de7ed9c8-36a8-4370-ec6e-3feb332a7435"
      },
      "source": [
        "print(\"Hello world\")"
      ],
      "execution_count": 4,
      "outputs": [
        {
          "output_type": "stream",
          "text": [
            "Hello world\n"
          ],
          "name": "stdout"
        }
      ]
    },
    {
      "cell_type": "code",
      "metadata": {
        "id": "LeFEpiteujnj",
        "colab_type": "code",
        "colab": {
          "base_uri": "https://localhost:8080/",
          "height": 170
        },
        "outputId": "5d867ab8-f33a-40bb-a732-0fd2caf5775f"
      },
      "source": [
        "print(\"      *    \")\n",
        "print(\"     ***    \")\n",
        "print(\"    *****    \")\n",
        "print(\"   *********    \")\n",
        "print(\"  ***********    \")\n",
        "print(\" **************    \")\n",
        "print(\"****************    \")\n",
        "print(\"      ***    \")\n",
        "print(\"      ***\")"
      ],
      "execution_count": 6,
      "outputs": [
        {
          "output_type": "stream",
          "text": [
            "      *    \n",
            "     ***    \n",
            "    *****    \n",
            "   *********    \n",
            "  ***********    \n",
            " **************    \n",
            "****************    \n",
            "      ***    \n",
            "      ***\n"
          ],
          "name": "stdout"
        }
      ]
    }
  ]
}